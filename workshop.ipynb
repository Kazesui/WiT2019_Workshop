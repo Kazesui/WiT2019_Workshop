{
 "cells": [
  {
   "cell_type": "code",
   "execution_count": null,
   "metadata": {
    "collapsed": true
   },
   "outputs": [],
   "source": [
    "import numpy as np\n",
    "import matplotlib.pyplot as plt\n",
    "\n",
    "\n",
    "def load_binary(filename):\n",
    "    with open(filename, 'rb') as fp:\n",
    "        x = np.fromfile(fp, dtype='float32')\n",
    "    return x\n",
    "\n",
    "\n",
    "plt.plot(load_binary('data/test_001.bin'))\n",
    "plt.tight_layout()\n",
    "plt.show()\n",
    "print('Hello World Again!')\n",
    "\n"
   ]
  }
 ],
 "metadata": {
  "kernelspec": {
   "display_name": "Python 2",
   "language": "python",
   "name": "python2"
  },
  "language_info": {
   "codemirror_mode": {
    "name": "ipython",
    "version": 2
   },
   "file_extension": ".py",
   "mimetype": "text/x-python",
   "name": "python",
   "nbconvert_exporter": "python",
   "pygments_lexer": "ipython2",
   "version": "2.7.6"
  }
 },
 "nbformat": 4,
 "nbformat_minor": 0
}
