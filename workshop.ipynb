{
 "cells": [
  {
   "cell_type": "markdown",
   "metadata": {
    "collapsed": true
   },
   "source": [
    "#Workshop Notebook\n",
    "\n",
    "This jupyter notebook will make for the interactive part of this workshop\n",
    "\n",
    "## Step 1: Inspect the data\n",
    "\n",
    "Usually, the first thing we want to do when dealing with any new type of data, we want to inspect it first to get some intuitions for it. By visualizing the data, we can often get some ideas as to how to tackle the data and features we can extract from it."
   ]
  },
  {
   "cell_type": "code",
   "execution_count": null,
   "metadata": {
    "collapsed": true
   },
   "outputs": [],
   "source": [
    "from keras.layers import Dense, Conv1D, MaxPool1D, Flatten\n",
    "from keras.models import Sequential\n",
    "from scipy.signal import periodogram\n",
    "\n",
    "import numpy as np\n",
    "import matplotlib.pyplot as plt\n",
    "from helpers import load_binary\n",
    "from keras.utils import to_categorical\n",
    "\n",
    "%matplotlib inline\n",
    "\n",
    "# model = Sequential()\n",
    "# model.add(Dense(2, input_dim=1))\n",
    "# model.add(Dense(1))\n",
    "# model.compile(optimizer='adam', loss='mse')\n",
    "\n",
    "with open('data/labels.csv', 'r') as fp:\n",
    "    labels = [line.replace('\\n', '').split(',') for line in fp.readlines()[1:]]\n",
    "\n",
    "np.random.seed(1337)\n",
    "np.random.shuffle(labels)\n",
    "\n",
    "x_train, y_train = [], []\n",
    "for label in labels:\n",
    "    filepath = 'data/signals/%s' % label[0]\n",
    "    label_id = 4 if label[1] == '' else int(label[1])\n",
    "    label_id = to_categorical(label_id, 5)\n",
    "    data = load_binary(filepath)\n",
    "    _, data = periodogram(data, fs=2000)\n",
    "    x_train.append(data)\n",
    "    y_train.append(label_id)\n",
    "x_train = np.array(x_train).reshape((len(x_train), -1, 1))\n",
    "y_train = np.array(y_train)\n",
    "\n",
    "model = Sequential()\n",
    "model.add(Conv1D(32, 9, padding='valid', input_shape=(x_train.shape[1], x_train.shape[2])))\n",
    "model.add(MaxPool1D(2))\n",
    "model.add(Conv1D(64, 9))\n",
    "model.add(MaxPool1D(2))\n",
    "model.add(Conv1D(128, 9))\n",
    "model.add(Flatten())\n",
    "model.add(Dense(5, activation='softmax'))\n",
    "model.compile(optimizer='sgd', loss='categorical_crossentropy', metrics=['accuracy'])\n",
    "\n",
    "logger = model.fit(x_train, y_train, epochs=200, batch_size=32, validation_split=0.25)\n",
    "model.evaluate(x_train[-25:], y_train[-25:])\n",
    "\n",
    "plt.plot(logger.history['accuracy'])\n",
    "plt.plot(logger.history['val_accuracy'])\n",
    "plt.tight_layout()\n",
    "plt.show()\n",
    "\n",
    "# data = np.array(x[1337]).reshape((1, 1))\n",
    "# p = model.predict(data)\n",
    "\n",
    "# print(p)\n",
    "\n",
    "# plt.plot(x)\n",
    "# plt.tight_layout()\n",
    "# plt.show()\n"
   ]
  },
  {
   "cell_type": "code",
   "execution_count": null,
   "metadata": {},
   "outputs": [],
   "source": []
  }
 ],
 "metadata": {
  "kernelspec": {
   "display_name": "Python 2",
   "language": "python",
   "name": "python2"
  },
  "language_info": {
   "codemirror_mode": {
    "name": "ipython",
    "version": 2
   },
   "file_extension": ".py",
   "mimetype": "text/x-python",
   "name": "python",
   "nbconvert_exporter": "python",
   "pygments_lexer": "ipython2",
   "version": "2.7.6"
  }
 },
 "nbformat": 4,
 "nbformat_minor": 0
}
